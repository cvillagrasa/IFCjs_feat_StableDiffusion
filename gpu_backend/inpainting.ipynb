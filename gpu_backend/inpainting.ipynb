{
 "cells": [
  {
   "cell_type": "code",
   "execution_count": 1,
   "outputs": [],
   "source": [
    "import gradio as gr\n",
    "from stable_diffusion_main import infer_from_gradio"
   ],
   "metadata": {
    "collapsed": false,
    "pycharm": {
     "name": "#%%\n"
    }
   }
  },
  {
   "cell_type": "code",
   "execution_count": 2,
   "outputs": [],
   "source": [
    "block = gr.Blocks(css=\".container { max-width: 1200px; margin: auto; }\")\n",
    "\n",
    "with block as demo:\n",
    "    gr.Markdown(\n",
    "        \"<h1><center>Stable Diffusion INPAINTING</center></h1>works only with 512x512, everything will be resized to those dimensions\")\n",
    "    with gr.Group():\n",
    "        with gr.Box():\n",
    "            with gr.Row().style(mobile_collapse=False, equal_height=True):\n",
    "                text = gr.Textbox(\n",
    "                    label=\"Enter your prompt\", show_label=False, max_lines=1\n",
    "                ).style(\n",
    "                    border=(True, False, True, True),\n",
    "                    rounded=(True, False, False, True),\n",
    "                    container=False,\n",
    "                )\n",
    "                btn = gr.Button(\"Run\").style(\n",
    "                    margin=False,\n",
    "                    rounded=(False, True, True, False),\n",
    "                )\n",
    "        with gr.Row().style(mobile_collapse=False, equal_height=True):\n",
    "            samples_num = gr.Slider(label=\"Images\", minimum=1, maximum=4, value=2, step=1)\n",
    "            steps_num = gr.Slider(label=\"Generation Steps\", minimum=2, maximum=499, value=64, step=1)\n",
    "            scale = gr.Slider(\n",
    "                label=\"CFG Scale\", minimum=0, maximum=50, value=7.5, step=0.1\n",
    "            )\n",
    "        with gr.Row().style(mobile_collapse=False, equal_height=True):\n",
    "            option = gr.Radio(choices=[\"Replace selection\", \"Replace everything else\"])\n",
    "\n",
    "        image = gr.Image(\n",
    "            tool=\"sketch\",\n",
    "            label=\"Input Image\",\n",
    "            type=\"pil\"\n",
    "        )\n",
    "\n",
    "        gallery = gr.Gallery(label=\"Generated images\", show_label=False).style(\n",
    "            grid=[2], height=\"auto\"\n",
    "        )\n",
    "        text.submit(infer_from_gradio, inputs=[text, image, samples_num, steps_num, scale, option], outputs=gallery)\n",
    "        btn.click(infer_from_gradio, inputs=[text, image, samples_num, steps_num, scale, option], outputs=gallery)"
   ],
   "metadata": {
    "collapsed": false,
    "pycharm": {
     "name": "#%%\n"
    }
   }
  },
  {
   "cell_type": "code",
   "execution_count": 3,
   "outputs": [
    {
     "name": "stdout",
     "output_type": "stream",
     "text": [
      "Running on local URL:  http://127.0.0.1:7860/\n",
      "\n",
      "To create a public link, set `share=True` in `launch()`.\n"
     ]
    },
    {
     "data": {
      "text/plain": "<IPython.core.display.HTML object>",
      "text/html": "<div><iframe src=\"http://127.0.0.1:7860/\" width=\"900\" height=\"500\" allow=\"autoplay; camera; microphone;\" frameborder=\"0\" allowfullscreen></iframe></div>"
     },
     "metadata": {},
     "output_type": "display_data"
    },
    {
     "data": {
      "text/plain": "0it [00:00, ?it/s]",
      "application/vnd.jupyter.widget-view+json": {
       "version_major": 2,
       "version_minor": 0,
       "model_id": "ccacf108ccce432b9605b7fdf3555109"
      }
     },
     "metadata": {},
     "output_type": "display_data"
    },
    {
     "name": "stdout",
     "output_type": "stream",
     "text": [
      "Keyboard interruption in main thread... closing server.\n"
     ]
    },
    {
     "data": {
      "text/plain": "(<gradio.routes.App at 0x7f4d83a39c90>, 'http://127.0.0.1:7860/', None)"
     },
     "execution_count": 3,
     "metadata": {},
     "output_type": "execute_result"
    }
   ],
   "source": [
    "demo.launch(debug=True)"
   ],
   "metadata": {
    "collapsed": false,
    "pycharm": {
     "name": "#%%\n"
    }
   }
  },
  {
   "cell_type": "code",
   "execution_count": null,
   "outputs": [],
   "source": [],
   "metadata": {
    "collapsed": false,
    "pycharm": {
     "name": "#%%\n"
    }
   }
  }
 ],
 "metadata": {
  "kernelspec": {
   "name": "python3",
   "language": "python",
   "display_name": "Python 3 (ipykernel)"
  },
  "language_info": {
   "codemirror_mode": {
    "name": "ipython",
    "version": 2
   },
   "file_extension": ".py",
   "mimetype": "text/x-python",
   "name": "python",
   "nbconvert_exporter": "python",
   "pygments_lexer": "ipython2",
   "version": "2.7.6"
  }
 },
 "nbformat": 4,
 "nbformat_minor": 0
}